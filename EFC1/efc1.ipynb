{
 "cells": [
  {
   "cell_type": "markdown",
   "metadata": {},
   "source": [
    "# IA353 - Exercícios de Fixação de Conceitos "
   ]
  },
  {
   "cell_type": "code",
   "execution_count": null,
   "metadata": {},
   "outputs": [],
   "source": [
    "# Carregando módulos utilizados no trabalho e variáveis comuns\r\n",
    "import numpy as np\r\n",
    "import scipy.io\r\n",
    "import matplotlib.pyplot as plt\r\n",
    "#import tensorflow as tf\r\n",
    "\r\n",
    "seed = 234619"
   ]
  },
  {
   "cell_type": "markdown",
   "metadata": {},
   "source": [
    "## Questão 1: "
   ]
  },
  {
   "cell_type": "code",
   "execution_count": null,
   "metadata": {},
   "outputs": [],
   "source": [
    "def visualizaDigito(matrizDados, indice, tamanho):\r\n",
    "    #Reorganizando o vetor da imagem em uma matriz\r\n",
    "    imagem = np.reshape(matrizDados[indice], [tamanho, tamanho])\r\n",
    "    \r\n",
    "    #Corrigindo sua orientação\r\n",
    "    imagem = imagem.T\r\n",
    "    return imagem"
   ]
  },
  {
   "cell_type": "code",
   "execution_count": 59,
   "metadata": {},
   "outputs": [
    {
     "name": "stdout",
     "output_type": "stream",
     "text": [
      "dict_keys(['__header__', '__version__', '__globals__', 'Xt', 'St'])\n"
     ]
    },
    {
     "ename": "KeyError",
     "evalue": "'X'",
     "output_type": "error",
     "traceback": [
      "\u001b[1;31m---------------------------------------------------------------------------\u001b[0m",
      "\u001b[1;31mKeyError\u001b[0m                                  Traceback (most recent call last)",
      "\u001b[1;32m<ipython-input-59-d508d21e3dea>\u001b[0m in \u001b[0;36m<module>\u001b[1;34m\u001b[0m\n\u001b[0;32m      6\u001b[0m \u001b[0mStr\u001b[0m \u001b[1;33m=\u001b[0m \u001b[0mdata\u001b[0m\u001b[1;33m[\u001b[0m\u001b[1;34m\"S\"\u001b[0m\u001b[1;33m]\u001b[0m\u001b[1;33m\u001b[0m\u001b[1;33m\u001b[0m\u001b[0m\n\u001b[0;32m      7\u001b[0m \u001b[1;33m\u001b[0m\u001b[0m\n\u001b[1;32m----> 8\u001b[1;33m \u001b[0mXts\u001b[0m \u001b[1;33m=\u001b[0m \u001b[0mtest\u001b[0m\u001b[1;33m[\u001b[0m\u001b[1;34m\"X\"\u001b[0m\u001b[1;33m]\u001b[0m\u001b[1;33m\u001b[0m\u001b[1;33m\u001b[0m\u001b[0m\n\u001b[0m\u001b[0;32m      9\u001b[0m \u001b[0mSts\u001b[0m \u001b[1;33m=\u001b[0m \u001b[0mtest\u001b[0m\u001b[1;33m[\u001b[0m\u001b[1;34m\"S\"\u001b[0m\u001b[1;33m]\u001b[0m\u001b[1;33m\u001b[0m\u001b[1;33m\u001b[0m\u001b[0m\n\u001b[0;32m     10\u001b[0m \u001b[1;33m\u001b[0m\u001b[0m\n",
      "\u001b[1;31mKeyError\u001b[0m: 'X'"
     ]
    }
   ],
   "source": [
    "#Carregando os dados MNIST\r\n",
    "data = scipy.io.loadmat(\"data.mat\")\r\n",
    "test = scipy.io.loadmat(\"test.mat\")\r\n",
    "\r\n",
    "Xtr = data[\"X\"]\r\n",
    "Str = data[\"S\"]\r\n",
    "\r\n",
    "Xts = test[\"Xt\"]\r\n",
    "Sts = test[\"St\"]\r\n",
    "\r\n",
    "#Separando o conjunto de treino em dois conjuntos, treino e validação, da forma 80/20\r\n",
    "tamanhoValidacao = int(0.2 * Xtr.shape[0])\r\n",
    "tamanhoTreino = Xtr.shape[0] - tamanhoValidacao\r\n",
    "\r\n",
    "Xvl = Xtr[:tamanhoValidacao]\r\n",
    "Svl = Str[:tamanhoValidacao]\r\n",
    "\r\n",
    "Xtr = Xtr[tamanhoValidacao:]\r\n",
    "Str = Str[tamanhoValidacao:]\r\n",
    "\r\n",
    "plt.figure()\r\n",
    "plt.imshow(visualizaDigito(Xvl,2,28))\r\n",
    "plt.show()\r\n",
    "\r\n"
   ]
  },
  {
   "cell_type": "markdown",
   "metadata": {},
   "source": [
    "## Questão 2:"
   ]
  },
  {
   "cell_type": "code",
   "execution_count": null,
   "metadata": {},
   "outputs": [],
   "source": []
  },
  {
   "cell_type": "markdown",
   "metadata": {},
   "source": [
    "## Questão 3:"
   ]
  },
  {
   "cell_type": "code",
   "execution_count": null,
   "metadata": {},
   "outputs": [],
   "source": []
  },
  {
   "cell_type": "markdown",
   "metadata": {},
   "source": [
    "## Questão 4:"
   ]
  },
  {
   "cell_type": "code",
   "execution_count": null,
   "metadata": {},
   "outputs": [],
   "source": []
  },
  {
   "cell_type": "markdown",
   "metadata": {},
   "source": [
    "## Questão 5:"
   ]
  },
  {
   "cell_type": "code",
   "execution_count": null,
   "metadata": {},
   "outputs": [],
   "source": []
  }
 ],
 "metadata": {
  "kernelspec": {
   "display_name": "Python 3.9.2 64-bit",
   "name": "python392jvsc74a57bd05891c0768c22597453a57b51a3c94024de68fd0b35f53d5e32c11d37e4a0b552"
  },
  "language_info": {
   "codemirror_mode": {
    "name": "ipython",
    "version": 3
   },
   "file_extension": ".py",
   "mimetype": "text/x-python",
   "name": "python",
   "nbconvert_exporter": "python",
   "pygments_lexer": "ipython3",
   "version": "3.9.2"
  },
  "metadata": {
   "interpreter": {
    "hash": "5891c0768c22597453a57b51a3c94024de68fd0b35f53d5e32c11d37e4a0b552"
   }
  },
  "orig_nbformat": 2
 },
 "nbformat": 4,
 "nbformat_minor": 2
}