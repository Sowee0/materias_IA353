{
 "cells": [
  {
   "cell_type": "markdown",
   "id": "demographic-sarah",
   "metadata": {
    "tags": []
   },
   "source": [
    "# IA353 - Exercícios de Fixação de Conceitos \n",
    "\n",
    "Aluno: Gabriel Ayres de Oliveira\n",
    "\n",
    "Data: 31/03/2021"
   ]
  },
  {
   "cell_type": "code",
   "execution_count": 2,
   "id": "initial-phoenix",
   "metadata": {
    "tags": []
   },
   "outputs": [],
   "source": [
    "# Carregando módulos utilizados no trabalho e variáveis comuns\n",
    "import numpy as np\n",
    "import scipy.io\n",
    "import matplotlib.pyplot as plt\n",
    "import tensorflow as tf\n",
    "import os\n",
    "\n",
    "ra = 234619"
   ]
  },
  {
   "cell_type": "markdown",
   "id": "indoor-inside",
   "metadata": {},
   "source": [
    "## Questão 4:"
   ]
  },
  {
   "cell_type": "markdown",
   "id": "characteristic-amateur",
   "metadata": {},
   "source": [
    "### Treinamento de CNN com Keras + Tensorflow"
   ]
  },
  {
   "cell_type": "code",
   "execution_count": null,
   "id": "finished-bobby",
   "metadata": {},
   "outputs": [],
   "source": [
    "mnist = tf.keras.datasets.mnist\n",
    "(x_train, y_train),(x_test, y_test) = mnist.load_data()\n",
    "\n",
    "# reshape to be [samples][width][height][pixels]\n",
    "x_train = x_train.reshape(x_train.shape[0], 28, 28, 1)\n",
    "x_test = x_test.reshape(x_test.shape[0], 28, 28, 1)\n",
    "x_train, x_test = x_train / 255.0, x_test / 255.0\n",
    "\n",
    "model = tf.keras.models.Sequential()\n",
    "model.add(tf.keras.layers.Conv2D(32, kernel_size=(3, 3),\n",
    "activation='relu',\n",
    "input_shape=(28, 28, 1)))\n",
    "\n",
    "model.add(tf.keras.layers.Conv2D(64, (3, 3), activation='relu'))\n",
    "model.add(tf.keras.layers.MaxPooling2D(pool_size=(2, 2)))\n",
    "model.add(tf.keras.layers.Dropout(0.25))\n",
    "model.add(tf.keras.layers.Flatten())\n",
    "model.add(tf.keras.layers.Dense(128, activation='relu'))\n",
    "model.add(tf.keras.layers.Dropout(0.5))\n",
    "model.add(tf.keras.layers.Dense(10, activation='softmax'))\n",
    "model.compile(optimizer='adam',\n",
    "loss='sparse_categorical_crossentropy',\n",
    "metrics=['accuracy'])\n",
    "model.fit(x_train, y_train, epochs=5)\n",
    "model.evaluate(x_test, y_test)\n",
    "model_json = model.to_json()\n",
    "\n",
    "json_file = open(\"model_CNN.json\", \"w\")\n",
    "json_file.write(model_json)\n",
    "json_file.close()\n",
    "model.save_weights(\"model_CNN.h5\")\n",
    "print(\"Model saved to disk\")\n",
    "os.getcwd()"
   ]
  }
 ],
 "metadata": {
  "kernelspec": {
   "display_name": "Python 3",
   "language": "python",
   "name": "python3"
  },
  "language_info": {
   "codemirror_mode": {
    "name": "ipython",
    "version": 3
   },
   "file_extension": ".py",
   "mimetype": "text/x-python",
   "name": "python",
   "nbconvert_exporter": "python",
   "pygments_lexer": "ipython3",
   "version": "3.9.2"
  }
 },
 "nbformat": 4,
 "nbformat_minor": 5
}
