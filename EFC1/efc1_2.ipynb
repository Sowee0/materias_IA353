{
 "cells": [
  {
   "cell_type": "markdown",
   "id": "arbitrary-reference",
   "metadata": {
    "tags": []
   },
   "source": [
    "# IA353 - Exercícios de Fixação de Conceitos \n",
    "\n",
    "Aluno: Gabriel Ayres de Oliveira\n",
    "\n",
    "Data: 31/03/2021"
   ]
  },
  {
   "cell_type": "code",
   "execution_count": 2,
   "id": "complimentary-cleveland",
   "metadata": {
    "tags": []
   },
   "outputs": [],
   "source": [
    "# Carregando módulos utilizados no trabalho e variáveis comuns\n",
    "import numpy as np\n",
    "import scipy.io\n",
    "import matplotlib.pyplot as plt\n",
    "\n",
    "ra = 234619"
   ]
  },
  {
   "cell_type": "markdown",
   "id": "sudden-poland",
   "metadata": {},
   "source": [
    "## Questão 2:"
   ]
  },
  {
   "cell_type": "markdown",
   "id": "controlling-jerusalem",
   "metadata": {},
   "source": [
    "### Síntese de modelos não lineares mas lineares nos parâmetros ajustáveis\n",
    "\n",
    "Usando uma ELM, adicionar uma camada intermediária de 1000 neurônios com pesos definidos aleatoriamente (normal, dp=0.2)"
   ]
  }
 ],
 "metadata": {
  "kernelspec": {
   "display_name": "Python 3",
   "language": "python",
   "name": "python3"
  },
  "language_info": {
   "codemirror_mode": {
    "name": "ipython",
    "version": 3
   },
   "file_extension": ".py",
   "mimetype": "text/x-python",
   "name": "python",
   "nbconvert_exporter": "python",
   "pygments_lexer": "ipython3",
   "version": "3.9.2"
  }
 },
 "nbformat": 4,
 "nbformat_minor": 5
}
