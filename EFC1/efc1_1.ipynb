{
 "cells": [
  {
   "cell_type": "markdown",
   "metadata": {
    "tags": []
   },
   "source": [
    "# IA353 - Exercícios de Fixação de Conceitos \n",
    "\n",
    "Aluno: Gabriel Ayres de Oliveira\n",
    "\n",
    "Data: 31/03/2021"
   ]
  },
  {
   "cell_type": "code",
   "execution_count": null,
   "metadata": {
    "tags": []
   },
   "outputs": [],
   "source": [
    "# Carregando módulos utilizados no trabalho e variáveis comuns\n",
    "import numpy as np\n",
    "import scipy.io\n",
    "import matplotlib.pyplot as plt\n",
    "\n",
    "ra = 234619"
   ]
  },
  {
   "cell_type": "markdown",
   "metadata": {},
   "source": [
    "## Questão 1: "
   ]
  },
  {
   "cell_type": "markdown",
   "metadata": {},
   "source": [
    "### Classificação de Dígitos usando a base MNIST\n",
    "\n",
    "Para esse exercício treina-se a rede neural usando a forma fechada. Porém visto que ele é um problema sobredeterminado, deve-se ajustar coeficientes para ter uma solução melhor."
   ]
  },
  {
   "cell_type": "code",
   "execution_count": null,
   "metadata": {},
   "outputs": [],
   "source": [
    "def visualizaDigito(matrizDados, indice, tamanho):\n",
    "    \n",
    "    #Reorganizando o vetor da imagem em uma matriz\n",
    "    imagem = np.reshape(matrizDados[indice], [tamanho, tamanho])\n",
    "    \n",
    "    #Corrigindo sua orientação\n",
    "    imagem = imagem.T\n",
    "    \n",
    "    return imagem"
   ]
  },
  {
   "cell_type": "code",
   "execution_count": null,
   "metadata": {},
   "outputs": [],
   "source": [
    "def calculaPesos(setEntrada, setSaida, coeficiente):\n",
    "    \n",
    "    #Calculando os pesos de forma fechada\n",
    "    a = np.matmul(setEntrada.T, setEntrada) #X.T * X\n",
    "    diagonal = np.eye(a.shape[0], dtype = int) #I\n",
    "    b = np.multiply(diagonal,coeficiente) #lambda * I\n",
    "    pesos = np.matmul(np.matmul(np.linalg.inv(a + b), setEntrada.T), setSaida)  \n",
    "\n",
    "    return pesos"
   ]
  },
  {
   "cell_type": "code",
   "execution_count": null,
   "metadata": {},
   "outputs": [],
   "source": [
    "def calculaTaxa(saidaCalculada, saidaOriginal):\n",
    "    acerto = 0\n",
    "    for i in range(saidaOriginal.shape[0]):\n",
    "        if (np.argmax(saidaCalculada[i,:]) == np.argmax(saidaOriginal[i,:])):\n",
    "            acerto = acerto + 1\n",
    "    \n",
    "    taxaAcerto = acerto/saidaCalculada.shape[0]\n",
    "    \n",
    "    return taxaAcerto"
   ]
  },
  {
   "cell_type": "code",
   "execution_count": null,
   "metadata": {},
   "outputs": [],
   "source": [
    "#Carregando os dados MNIST\n",
    "data = scipy.io.loadmat(\"data.mat\")\n",
    "test = scipy.io.loadmat(\"test.mat\")\n",
    "\n",
    "Xtr = data[\"X\"]\n",
    "Str = data[\"S\"]\n",
    "\n",
    "Xts = test[\"Xt\"]\n",
    "Sts = test[\"St\"]\n",
    "\n",
    "#Reorganizando os dados de acordo com o RA do aluno\n",
    "np.random.seed(ra)\n",
    "\n",
    "permutacao = np.random.permutation(Xtr.shape[0])\n",
    "Xtr[:] = Xtr[permutacao] \n",
    "Str[:] = Str[permutacao]\n",
    "\n",
    "#Separando o conjunto de treino em dois conjuntos, treino e validação, da forma 80/20\n",
    "tamanhoValidacao = int(0.2 * Xtr.shape[0])\n",
    "tamanhoTreino = Xtr.shape[0] - tamanhoValidacao\n",
    "\n",
    "Xvl = Xtr[:tamanhoValidacao]\n",
    "Svl = Str[:tamanhoValidacao]\n",
    "\n",
    "Xtr = Xtr[tamanhoValidacao:]\n",
    "Str = Str[tamanhoValidacao:]\n",
    "\n",
    "plt.figure()\n",
    "plt.title(\"Dígito\")\n",
    "plt.imshow(visualizaDigito(Xvl,200,28))\n",
    "plt.axis(\"off\")\n",
    "plt.show()"
   ]
  },
  {
   "cell_type": "code",
   "execution_count": null,
   "metadata": {
    "scrolled": true,
    "tags": []
   },
   "outputs": [],
   "source": [
    "#Calculando o coeficiente que implica no menor erro de classificaćão\n",
    "intervaloPesquisa = np.arange(-10,16,2)\n",
    "intervaloFino = intervaloPesquisa.shape[0]\n",
    "k=0;\n",
    "\n",
    "#Cálculo do coeficiente grosseiro\n",
    "vetorErroGrosseiro = np.zeros_like(intervaloPesquisa, dtype = float)\n",
    "for i in intervaloPesquisa:\n",
    "    pesos = calculaPesos(Xtr, Str, np.power(2.,i))\n",
    "    Scalc = np.matmul(Xvl,pesos)\n",
    "    vetorErroGrosseiro[k] = calculaTaxa(Scalc, Svl)\n",
    "    k = k + 1\n",
    "    print(k)\n",
    "\n",
    "indiceMenorErro = np.argmax(vetorErroGrosseiro)\n",
    "    \n",
    "\n",
    "#Cálculo do coeficiente fino\n",
    "intervaloPesquisaFina = np.linspace(intervaloPesquisa[indiceMenorErro-1],intervaloPesquisa[indiceMenorErro+1], intervaloFino)\n",
    "vetorErroFino = np.zeros_like(intervaloPesquisaFina, dtype = float)\n",
    "k = 0\n",
    "\n",
    "for i in intervaloPesquisaFina:\n",
    "    pesos = calculaPesos(Xtr, Str, np.power(2.,i))\n",
    "    Scalc = np.matmul(Xvl,pesos)\n",
    "    vetorErroFino[k] = calculaTaxa(Scalc, Svl)\n",
    "    k = k + 1"
   ]
  },
  {
   "cell_type": "code",
   "execution_count": null,
   "metadata": {},
   "outputs": [],
   "source": [
    "#Recalculando para o menor coeficiente de erro\n",
    "print(\"Usando o menor valor de coeficiente calculado: \" + str(np.max(vetorErroFino)))\n",
    "pesos = calculaPesos(Xtr, Str, np.power(2.,intervaloPesquisaFina[np.argmax(vetorErroFino)]))"
   ]
  },
  {
   "cell_type": "code",
   "execution_count": null,
   "metadata": {},
   "outputs": [],
   "source": [
    "#Plotando ambos os erros num semilog\n",
    "plt.figure()\n",
    "\n",
    "plt.subplot(2,1,1)\n",
    "plt.semilogx(intervaloPesquisa, vetorErroGrosseiro)\n",
    "\n",
    "plt.subplot(2,1,2)\n",
    "plt.semilogx(intervaloPesquisaFina,vetorErroFino)\n",
    "\n",
    "plt.show()"
   ]
  },
  {
   "cell_type": "code",
   "execution_count": null,
   "metadata": {},
   "outputs": [],
   "source": [
    "#Imprimindo os dígitos \n",
    "\n",
    "plt.figure(figsize=(20,10))\n",
    "\n",
    "for i in range (0,10):\n",
    "    \n",
    "    plt.subplot(2 ,5, i+1)\n",
    "    plt.title(\"Dígito \" + str(i+1))\n",
    "    plt.imshow(pesos[:,i].reshape([28,28]).T)\n",
    "\n",
    "plt.show()\n",
    "\n",
    "\n"
   ]
  }
 ],
 "metadata": {
  "kernelspec": {
   "display_name": "Python 3",
   "language": "python",
   "name": "python3"
  },
  "language_info": {
   "codemirror_mode": {
    "name": "ipython",
    "version": 3
   },
   "file_extension": ".py",
   "mimetype": "text/x-python",
   "name": "python",
   "nbconvert_exporter": "python",
   "pygments_lexer": "ipython3",
   "version": "3.9.2"
  },
  "metadata": {
   "interpreter": {
    "hash": "5891c0768c22597453a57b51a3c94024de68fd0b35f53d5e32c11d37e4a0b552"
   }
  }
 },
 "nbformat": 4,
 "nbformat_minor": 4
}
