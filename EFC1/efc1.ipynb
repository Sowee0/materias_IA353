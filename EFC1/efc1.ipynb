{
 "cells": [
  {
   "cell_type": "markdown",
   "metadata": {},
   "source": [
    "# IA353 - Exercícios de Fixação de Conceitos \r\n",
    "\r\n",
    "Aluno: Gabriel Ayres de Oliveira\r\n",
    "\r\n",
    "Data: 31/03/2021"
   ]
  },
  {
   "cell_type": "code",
   "execution_count": null,
   "metadata": {},
   "outputs": [],
   "source": [
    "# Carregando módulos utilizados no trabalho e variáveis comuns\r\n",
    "import numpy as np\r\n",
    "import scipy.io\r\n",
    "import matplotlib.pyplot as plt\r\n",
    "#import tensorflow as tf\r\n",
    "\r\n",
    "seed = 234619\r\n",
    "intervaloPesquisa = np.arange(-10,12,2)"
   ]
  },
  {
   "cell_type": "markdown",
   "metadata": {},
   "source": [
    "## Questão 1: "
   ]
  },
  {
   "cell_type": "code",
   "execution_count": null,
   "metadata": {},
   "outputs": [],
   "source": [
    "def visualizaDigito(matrizDados, indice, tamanho):\r\n",
    "    #Reorganizando o vetor da imagem em uma matriz\r\n",
    "    imagem = np.reshape(matrizDados[indice], [tamanho, tamanho])\r\n",
    "    \r\n",
    "    #Corrigindo sua orientação\r\n",
    "    imagem = imagem.T\r\n",
    "    return imagem"
   ]
  },
  {
   "cell_type": "code",
   "execution_count": null,
   "metadata": {},
   "outputs": [],
   "source": [
    "def calculaPesos(setEntrada, setSaida, coeficiente):\r\n",
    "    #Calculando os pesos de forma fechada\r\n",
    "    diagonal = np.eye(setEntrada.shape[0], dtype = int)\r\n",
    "    pesos = np.multiply(np.linalg.inv((np.multiply(setEntrada.T, setEntrada) + np.multiply(diagonal,coeficiente)), setEntrada.T)) * setSaida   \r\n",
    "    return pesos"
   ]
  },
  {
   "cell_type": "code",
   "execution_count": null,
   "metadata": {},
   "outputs": [],
   "source": [
    "#Carregando os dados MNIST\r\n",
    "data = scipy.io.loadmat(\"data.mat\")\r\n",
    "test = scipy.io.loadmat(\"test.mat\")\r\n",
    "\r\n",
    "Xtr = data[\"X\"]\r\n",
    "Str = data[\"S\"]\r\n",
    "\r\n",
    "Xts = test[\"Xt\"]\r\n",
    "Sts = test[\"St\"]\r\n",
    "\r\n",
    "#Separando o conjunto de treino em dois conjuntos, treino e validação, da forma 80/20\r\n",
    "tamanhoValidacao = int(0.2 * Xtr.shape[0])\r\n",
    "tamanhoTreino = Xtr.shape[0] - tamanhoValidacao\r\n",
    "\r\n",
    "Xvl = Xtr[:tamanhoValidacao]\r\n",
    "Svl = Str[:tamanhoValidacao]\r\n",
    "\r\n",
    "Xtr = Xtr[tamanhoValidacao:]\r\n",
    "Str = Str[tamanhoValidacao:]\r\n",
    "\r\n",
    "plt.figure()\r\n",
    "plt.imshow(visualizaDigito(Xvl,200,28))\r\n",
    "plt.show()"
   ]
  },
  {
   "cell_type": "code",
   "execution_count": null,
   "metadata": {},
   "outputs": [],
   "source": [
    "calculaPesos(Xtr,Str,1)"
   ]
  },
  {
   "cell_type": "code",
   "execution_count": null,
   "metadata": {},
   "outputs": [],
   "source": []
  },
  {
   "cell_type": "code",
   "execution_count": null,
   "metadata": {},
   "outputs": [],
   "source": []
  },
  {
   "cell_type": "markdown",
   "metadata": {},
   "source": [
    "## Questão 3:"
   ]
  },
  {
   "cell_type": "code",
   "execution_count": null,
   "metadata": {},
   "outputs": [],
   "source": []
  },
  {
   "cell_type": "markdown",
   "metadata": {},
   "source": [
    "## Questão 4:"
   ]
  },
  {
   "cell_type": "code",
   "execution_count": null,
   "metadata": {},
   "outputs": [],
   "source": []
  },
  {
   "cell_type": "markdown",
   "metadata": {},
   "source": [
    "## Questão 5:"
   ]
  },
  {
   "cell_type": "code",
   "execution_count": null,
   "metadata": {},
   "outputs": [],
   "source": []
  }
 ],
 "metadata": {
  "kernelspec": {
   "display_name": "Python 3.9.2 64-bit",
   "name": "python392jvsc74a57bd05891c0768c22597453a57b51a3c94024de68fd0b35f53d5e32c11d37e4a0b552"
  },
  "language_info": {
   "name": "python",
   "version": ""
  },
  "metadata": {
   "interpreter": {
    "hash": "5891c0768c22597453a57b51a3c94024de68fd0b35f53d5e32c11d37e4a0b552"
   }
  },
  "orig_nbformat": 2
 },
 "nbformat": 4,
 "nbformat_minor": 2
}