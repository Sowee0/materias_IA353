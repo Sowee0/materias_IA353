{
 "cells": [
  {
   "cell_type": "markdown",
   "id": "ordinary-terror",
   "metadata": {
    "tags": []
   },
   "source": [
    "# IA353 - Exercícios de Fixação de Conceitos \n",
    "\n",
    "Aluno: Gabriel Ayres de Oliveira\n",
    "\n",
    "Data: 31/03/2021"
   ]
  },
  {
   "cell_type": "code",
   "execution_count": 2,
   "id": "pharmaceutical-sweet",
   "metadata": {
    "tags": []
   },
   "outputs": [],
   "source": [
    "# Carregando módulos utilizados no trabalho e variáveis comuns\n",
    "import numpy as np\n",
    "import scipy.io\n",
    "import matplotlib.pyplot as plt\n",
    "\n",
    "ra = 234619"
   ]
  },
  {
   "cell_type": "markdown",
   "id": "joined-sheriff",
   "metadata": {},
   "source": [
    "## Questão 5:"
   ]
  },
  {
   "cell_type": "markdown",
   "id": "banned-inspiration",
   "metadata": {},
   "source": [
    "### Treinamento de um autoencoder\n",
    "Usando a base MNIST constatar o sucesso da tarefa treinando um autoencoder para codificação e decodificação."
   ]
  },
  {
   "cell_type": "code",
   "execution_count": null,
   "id": "friendly-symposium",
   "metadata": {
    "tags": []
   },
   "outputs": [],
   "source": []
  }
 ],
 "metadata": {
  "kernelspec": {
   "display_name": "Python 3",
   "language": "python",
   "name": "python3"
  },
  "language_info": {
   "codemirror_mode": {
    "name": "ipython",
    "version": 3
   },
   "file_extension": ".py",
   "mimetype": "text/x-python",
   "name": "python",
   "nbconvert_exporter": "python",
   "pygments_lexer": "ipython3",
   "version": "3.9.2"
  }
 },
 "nbformat": 4,
 "nbformat_minor": 5
}
