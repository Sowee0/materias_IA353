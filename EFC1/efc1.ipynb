{
 "cells": [
  {
   "cell_type": "markdown",
   "metadata": {},
   "source": [
    "# IA353 - Exercícios de Fixação de Conceitos "
   ]
  },
  {
   "cell_type": "code",
   "execution_count": null,
   "metadata": {},
   "outputs": [],
   "source": [
    "# Carregando módulos utilizados no trabalho e variáveis comuns\r\n",
    "import numpy as np\r\n",
    "import scipy.io\r\n",
    "import matplotlib.pyplot as plt\r\n",
    "#import tensorflow as tf\r\n",
    "\r\n",
    "seed = 234619"
   ]
  },
  {
   "cell_type": "markdown",
   "metadata": {},
   "source": [
    "## Questão 1: "
   ]
  },
  {
   "cell_type": "code",
   "execution_count": null,
   "metadata": {},
   "outputs": [],
   "source": [
    "def visualizaDigito(matrizDados, indice, tamanho):\r\n",
    "    imagem = np.reshape(matrizDados[indice], [tamanho, tamanho])\r\n",
    "    imagem = imagem.T\r\n",
    "    return imagem"
   ]
  },
  {
   "cell_type": "code",
   "execution_count": null,
   "metadata": {},
   "outputs": [],
   "source": [
    "#Carregando os dados\r\n",
    "data = scipy.io.loadmat(\"data.mat\")\r\n",
    "test = scipy.io.loadmat(\"data.mat\")\r\n",
    "\r\n",
    "Xtr = data[\"X\"]\r\n",
    "Str = data[\"S\"]\r\n",
    "\r\n",
    "Xts = test[\"X\"]\r\n",
    "Sts = test[\"S\"]\r\n",
    "\r\n",
    "#Separando os \r\n",
    "\r\n",
    "plt.figure()\r\n",
    "plt.imshow(visualizaDigito(X,2,28))\r\n",
    "plt.show()\r\n",
    "\r\n"
   ]
  },
  {
   "cell_type": "markdown",
   "metadata": {},
   "source": [
    "## Questão 2:"
   ]
  },
  {
   "cell_type": "code",
   "execution_count": null,
   "metadata": {},
   "outputs": [],
   "source": []
  },
  {
   "cell_type": "markdown",
   "metadata": {},
   "source": [
    "## Questão 3:"
   ]
  },
  {
   "cell_type": "code",
   "execution_count": null,
   "metadata": {},
   "outputs": [],
   "source": []
  },
  {
   "cell_type": "markdown",
   "metadata": {},
   "source": [
    "## Questão 4:"
   ]
  },
  {
   "cell_type": "code",
   "execution_count": null,
   "metadata": {},
   "outputs": [],
   "source": []
  },
  {
   "cell_type": "markdown",
   "metadata": {},
   "source": [
    "## Questão 5:"
   ]
  },
  {
   "cell_type": "code",
   "execution_count": null,
   "metadata": {},
   "outputs": [],
   "source": []
  }
 ],
 "metadata": {
  "kernelspec": {
   "display_name": "Python 3.9.2 64-bit",
   "name": "python392jvsc74a57bd05891c0768c22597453a57b51a3c94024de68fd0b35f53d5e32c11d37e4a0b552"
  },
  "language_info": {
   "codemirror_mode": {
    "name": "ipython",
    "version": 3
   },
   "file_extension": ".py",
   "mimetype": "text/x-python",
   "name": "python",
   "nbconvert_exporter": "python",
   "pygments_lexer": "ipython3",
   "version": "3.9.2"
  },
  "metadata": {
   "interpreter": {
    "hash": "5891c0768c22597453a57b51a3c94024de68fd0b35f53d5e32c11d37e4a0b552"
   }
  },
  "orig_nbformat": 2
 },
 "nbformat": 4,
 "nbformat_minor": 2
}