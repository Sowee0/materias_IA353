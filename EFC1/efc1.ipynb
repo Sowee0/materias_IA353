{
 "cells": [
  {
   "cell_type": "markdown",
   "metadata": {},
   "source": [
    "# IA353 - Exercícios de Fixação de Conceitos \n",
    "\n",
    "Aluno: Gabriel Ayres de Oliveira\n",
    "\n",
    "Data: 31/03/2021"
   ]
  },
  {
   "cell_type": "code",
   "execution_count": null,
   "metadata": {},
   "outputs": [],
   "source": [
    "# Carregando módulos utilizados no trabalho e variáveis comuns\n",
    "import numpy as np\n",
    "import scipy.io\n",
    "import matplotlib.pyplot as plt\n",
    "#import tensorflow as tf\n",
    "\n",
    "ra = 234619\n",
    "intervaloPesquisa = np.arange(-10,12,2)"
   ]
  },
  {
   "cell_type": "markdown",
   "metadata": {},
   "source": [
    "## Questão 1: "
   ]
  },
  {
   "cell_type": "code",
   "execution_count": null,
   "metadata": {},
   "outputs": [],
   "source": [
    "def visualizaDigito(matrizDados, indice, tamanho):\n",
    "    \n",
    "    #Reorganizando o vetor da imagem em uma matriz\n",
    "    imagem = np.reshape(matrizDados[indice], [tamanho, tamanho])\n",
    "    \n",
    "    #Corrigindo sua orientação\n",
    "    imagem = imagem.T\n",
    "    \n",
    "    return imagem"
   ]
  },
  {
   "cell_type": "code",
   "execution_count": null,
   "metadata": {},
   "outputs": [],
   "source": [
    "def calculaPesos(setEntrada, setSaida, coeficiente):\n",
    "    \n",
    "    #Calculando os pesos de forma fechada\n",
    "    a = np.matmul(setEntrada.T, setEntrada) #X.T * X\n",
    "    diagonal = np.eye(a.shape[0], dtype = int) #lambda\n",
    "    b = np.multiply(diagonal,coeficiente) #lambda * I\n",
    "    pesos = np.matmul(np.matmul(np.linalg.inv(a + b), setEntrada.T), setSaida)  \n",
    "\n",
    "    return pesos"
   ]
  },
  {
   "cell_type": "code",
   "execution_count": null,
   "metadata": {},
   "outputs": [],
   "source": [
    "#Carregando os dados MNIST\r\n",
    "data = scipy.io.loadmat(\"data.mat\")\r\n",
    "test = scipy.io.loadmat(\"test.mat\")\r\n",
    "\r\n",
    "Xtr = data[\"X\"]\r\n",
    "Str = data[\"S\"]\r\n",
    "\r\n",
    "Xts = test[\"Xt\"]\r\n",
    "Sts = test[\"St\"]\r\n",
    "\r\n",
    "#Separando o conjunto de treino em dois conjuntos, treino e validação, da forma 80/20\r\n",
    "tamanhoValidacao = int(0.2 * Xtr.shape[0])\r\n",
    "tamanhoTreino = Xtr.shape[0] - tamanhoValidacao\r\n",
    "\r\n",
    "Xvl = Xtr[:tamanhoValidacao]\r\n",
    "Svl = Str[:tamanhoValidacao]\r\n",
    "\r\n",
    "Xtr = Xtr[tamanhoValidacao:]\r\n",
    "Str = Str[tamanhoValidacao:]\r\n",
    "\r\n",
    "plt.figure()\r\n",
    "plt.imshow(visualizaDigito(Xvl,200,28))\r\n",
    "plt.show()"
   ]
  },
  {
   "cell_type": "code",
   "execution_count": null,
   "metadata": {},
   "outputs": [],
   "source": [
    "#Calculando o coeficiente que implica na mo menor erro de classificaćão\n",
    "\n",
    "#Cálculo do coeficiente grosseiro\n",
    "for(i in intervaloPesquisa)\n",
    "pesos = calculaPesos(Xtr,Str,1)\n",
    "\n",
    "Ycalc = np.matmult(pesos.T, )"
   ]
  },
  {
   "cell_type": "code",
   "execution_count": null,
   "metadata": {},
   "outputs": [],
   "source": [
    "for i in intervaloPesquisa:\n",
    "    print(i)"
   ]
  },
  {
   "cell_type": "code",
   "execution_count": null,
   "metadata": {},
   "outputs": [],
   "source": []
  },
  {
   "cell_type": "code",
   "execution_count": null,
   "metadata": {},
   "outputs": [],
   "source": []
  },
  {
   "cell_type": "markdown",
   "metadata": {},
   "source": [
    "## Questão 3:"
   ]
  },
  {
   "cell_type": "code",
   "execution_count": null,
   "metadata": {},
   "outputs": [],
   "source": []
  },
  {
   "cell_type": "markdown",
   "metadata": {},
   "source": [
    "## Questão 4:"
   ]
  },
  {
   "cell_type": "code",
   "execution_count": null,
   "metadata": {},
   "outputs": [],
   "source": []
  },
  {
   "cell_type": "markdown",
   "metadata": {},
   "source": [
    "## Questão 5:"
   ]
  },
  {
   "cell_type": "code",
   "execution_count": null,
   "metadata": {},
   "outputs": [],
   "source": []
  }
 ],
 "metadata": {
  "kernelspec": {
   "display_name": "Python 3",
   "language": "python",
   "name": "python3"
  },
  "language_info": {
   "codemirror_mode": {
    "name": "ipython",
    "version": 3
   },
   "file_extension": ".py",
   "mimetype": "text/x-python",
   "name": "python",
   "nbconvert_exporter": "python",
   "pygments_lexer": "ipython3",
   "version": "3.9.2"
  },
  "metadata": {
   "interpreter": {
    "hash": "5891c0768c22597453a57b51a3c94024de68fd0b35f53d5e32c11d37e4a0b552"
   }
  }
 },
 "nbformat": 4,
 "nbformat_minor": 4
}
